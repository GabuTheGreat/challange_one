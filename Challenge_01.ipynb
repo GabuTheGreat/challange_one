{
 "cells": [
  {
   "cell_type": "markdown",
   "metadata": {},
   "source": [
    "#### Title: Data Wrangling Challange\n",
    "#### * Author: Gabriel Mutua *\n",
    "#### Date: August 8, 2018\n"
   ]
  },
  {
   "cell_type": "code",
   "execution_count": 7,
   "metadata": {},
   "outputs": [
    {
     "data": {
      "text/html": [
       "<div>\n",
       "<style scoped>\n",
       "    .dataframe tbody tr th:only-of-type {\n",
       "        vertical-align: middle;\n",
       "    }\n",
       "\n",
       "    .dataframe tbody tr th {\n",
       "        vertical-align: top;\n",
       "    }\n",
       "\n",
       "    .dataframe thead th {\n",
       "        text-align: right;\n",
       "    }\n",
       "</style>\n",
       "<table border=\"1\" class=\"dataframe\">\n",
       "  <thead>\n",
       "    <tr style=\"text-align: right;\">\n",
       "      <th></th>\n",
       "      <th>Unnamed: 0</th>\n",
       "      <th>learner_id</th>\n",
       "      <th>program_code</th>\n",
       "      <th>variation_code</th>\n",
       "      <th>message_in</th>\n",
       "      <th>message_out</th>\n",
       "      <th>created_at</th>\n",
       "      <th>user_response</th>\n",
       "    </tr>\n",
       "  </thead>\n",
       "  <tbody>\n",
       "    <tr>\n",
       "      <th>0</th>\n",
       "      <td>1</td>\n",
       "      <td>8</td>\n",
       "      <td>HFH</td>\n",
       "      <td>HFH</td>\n",
       "      <td>hfh</td>\n",
       "      <td>Housing is a basic need but not everyone can a...</td>\n",
       "      <td>2017-12-20 11:55:19</td>\n",
       "      <td>a</td>\n",
       "    </tr>\n",
       "    <tr>\n",
       "      <th>1</th>\n",
       "      <td>2</td>\n",
       "      <td>8</td>\n",
       "      <td>HFH</td>\n",
       "      <td>HFH</td>\n",
       "      <td>a</td>\n",
       "      <td>All SMSs are FREE. Reply with a number to lear...</td>\n",
       "      <td>2017-12-20 11:56:19</td>\n",
       "      <td>1</td>\n",
       "    </tr>\n",
       "    <tr>\n",
       "      <th>2</th>\n",
       "      <td>3</td>\n",
       "      <td>8</td>\n",
       "      <td>PL</td>\n",
       "      <td>PL</td>\n",
       "      <td>1</td>\n",
       "      <td>(1/9) Did you know that people who have been s...</td>\n",
       "      <td>2017-12-20 11:58:05</td>\n",
       "      <td>a</td>\n",
       "    </tr>\n",
       "  </tbody>\n",
       "</table>\n",
       "</div>"
      ],
      "text/plain": [
       "   Unnamed: 0  learner_id program_code variation_code message_in  \\\n",
       "0           1           8          HFH            HFH        hfh   \n",
       "1           2           8          HFH            HFH          a   \n",
       "2           3           8           PL             PL          1   \n",
       "\n",
       "                                         message_out           created_at  \\\n",
       "0  Housing is a basic need but not everyone can a...  2017-12-20 11:55:19   \n",
       "1  All SMSs are FREE. Reply with a number to lear...  2017-12-20 11:56:19   \n",
       "2  (1/9) Did you know that people who have been s...  2017-12-20 11:58:05   \n",
       "\n",
       "  user_response  \n",
       "0             a  \n",
       "1             1  \n",
       "2             a  "
      ]
     },
     "execution_count": 7,
     "metadata": {},
     "output_type": "execute_result"
    }
   ],
   "source": [
    "import pandas as pd\n",
    "import numpy as np\n",
    "\n",
    "challange_1 = pd.read_csv(\"C:/Users/MLIS/Documents/data_wrangling/housing_data.csv\", encoding = \"ISO-8859-1\")\n",
    "challange_1.head(3)\n"
   ]
  },
  {
   "cell_type": "markdown",
   "metadata": {},
   "source": [
    "##### 1) How many learners were in the housing trainings project?\n",
    "Since the learners ID is unique, I checked the length of the coloumn the learner_id. Although not a good practice we can counter check the results by using the shape function to counter check the dimesions of our data frame."
   ]
  },
  {
   "cell_type": "code",
   "execution_count": 11,
   "metadata": {},
   "outputs": [
    {
     "data": {
      "text/plain": [
       "422868"
      ]
     },
     "execution_count": 11,
     "metadata": {},
     "output_type": "execute_result"
    }
   ],
   "source": [
    "#checking the length of learner ID\n",
    "learner_id = challange_1[\"learner_id\"]\n",
    "len(learner_id)"
   ]
  },
  {
   "cell_type": "code",
   "execution_count": 12,
   "metadata": {},
   "outputs": [
    {
     "data": {
      "text/plain": [
       "(422868, 8)"
      ]
     },
     "execution_count": 12,
     "metadata": {},
     "output_type": "execute_result"
    }
   ],
   "source": [
    "#checking the dimension of the whole data frame\n",
    "challange_1.shape"
   ]
  },
  {
   "cell_type": "markdown",
   "metadata": {},
   "source": [
    "##### 2) Which were the 3 most popular trainings? (Trainings with the most learners)?"
   ]
  },
  {
   "cell_type": "code",
   "execution_count": 23,
   "metadata": {},
   "outputs": [
    {
     "data": {
      "text/plain": [
       "PLB    123652\n",
       "HFS     78505\n",
       "SF      55654\n",
       "HFH     55275\n",
       "PL      53678\n",
       "SM      31622\n",
       "MW      24482\n",
       "Name: program_code, dtype: int64"
      ]
     },
     "execution_count": 23,
     "metadata": {},
     "output_type": "execute_result"
    }
   ],
   "source": [
    "#getting the unique count of all program codes\n",
    "popular_programs = challange_1[\"program_code\"].value_counts()\n",
    "popular_programs"
   ]
  },
  {
   "cell_type": "markdown",
   "metadata": {},
   "source": [
    "###### * Vizualizing the top five popular trainings*"
   ]
  },
  {
   "cell_type": "code",
   "execution_count": 21,
   "metadata": {},
   "outputs": [
    {
     "data": {
      "text/plain": [
       "<matplotlib.axes._subplots.AxesSubplot at 0x14b0df7fd30>"
      ]
     },
     "execution_count": 21,
     "metadata": {},
     "output_type": "execute_result"
    },
    {
     "data": {
      "image/png": "[encoded data removed]",
      "text/plain": [
       "<matplotlib.figure.Figure at 0x14b138b7f28>"
      ]
     },
     "metadata": {},
     "output_type": "display_data"
    }
   ],
   "source": [
    "import matplotlib.pyplot as plt\n",
    "popular_programs.plot.bar()"
   ]
  },
  {
   "cell_type": "code",
   "execution_count": null,
   "metadata": {},
   "outputs": [],
   "source": []
  }
 ],
 "metadata": {
  "kernelspec": {
   "display_name": "Python 3",
   "language": "python",
   "name": "python3"
  },
  "language_info": {
   "codemirror_mode": {
    "name": "ipython",
    "version": 3
   },
   "file_extension": ".py",
   "mimetype": "text/x-python",
   "name": "python",
   "nbconvert_exporter": "python",
   "pygments_lexer": "ipython3",
   "version": "3.6.4"
  }
 },
 "nbformat": 4,
 "nbformat_minor": 2
}
